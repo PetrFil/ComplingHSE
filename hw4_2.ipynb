{
  "nbformat": 4,
  "nbformat_minor": 0,
  "metadata": {
    "colab": {
      "name": "hw4-2.ipynb",
      "provenance": [],
      "collapsed_sections": []
    },
    "kernelspec": {
      "name": "python3",
      "display_name": "Python 3"
    }
  },
  "cells": [
    {
      "cell_type": "code",
      "metadata": {
        "id": "3sOgG8xFNGgn",
        "colab_type": "code",
        "colab": {}
      },
      "source": [
        "!pip install deeppavlov "
      ],
      "execution_count": 0,
      "outputs": []
    },
    {
      "cell_type": "code",
      "metadata": {
        "id": "hWD6M1OQ7Sfr",
        "colab_type": "code",
        "colab": {}
      },
      "source": [
        "!pip install tensorflow==1.15.0 "
      ],
      "execution_count": 0,
      "outputs": []
    },
    {
      "cell_type": "code",
      "metadata": {
        "id": "ZcI8mqho7bJ5",
        "colab_type": "code",
        "colab": {}
      },
      "source": [
        "!pip install git+https://github.com/deepmipt/bert.git@feat/multi_gpu "
      ],
      "execution_count": 0,
      "outputs": []
    },
    {
      "cell_type": "code",
      "metadata": {
        "id": "-3Scar6r7erq",
        "colab_type": "code",
        "colab": {}
      },
      "source": [
        "!wget https://raw.githubusercontent.com/PetrFil/ComplingHSE/master/test.txt\n",
        "!wget https://raw.githubusercontent.com/PetrFil/ComplingHSE/master/train.txt\n",
        "!wget https://raw.githubusercontent.com/PetrFil/ComplingHSE/master/valid.txt\n",
        "!wget https://raw.githubusercontent.com/mannefedov/compling_nlp_hse_course/master/data/pristavki.csv"
      ],
      "execution_count": 0,
      "outputs": []
    },
    {
      "cell_type": "code",
      "metadata": {
        "id": "lDAs0jr18kKY",
        "colab_type": "code",
        "colab": {}
      },
      "source": [
        "import pandas as pd"
      ],
      "execution_count": 0,
      "outputs": []
    },
    {
      "cell_type": "code",
      "metadata": {
        "id": "L4MQZI4s-d5y",
        "colab_type": "code",
        "colab": {}
      },
      "source": [
        "data = pd.read_csv('pristavki.csv', header=None, names=['text'])"
      ],
      "execution_count": 0,
      "outputs": []
    },
    {
      "cell_type": "code",
      "metadata": {
        "id": "o6o5VNMZ83S1",
        "colab_type": "code",
        "colab": {}
      },
      "source": [
        "import json\n",
        "from deeppavlov import configs, build_model, train_model\n",
        "\n",
        "with configs.ner.ner_ontonotes_bert_mult.open(encoding='utf8') as f:\n",
        "    ner_config = json.load(f)\n",
        "\n",
        "ner_config['dataset_reader']['data_path'] = './'  # directory with train.txt, valid.txt and test.txt files\n",
        "ner_config['metadata']['variables']['NER_PATH'] = './'\n",
        "ner_config['metadata']['download'] = [ner_config['metadata']['download'][-1]]  # do not download the pretrained ontonotes model\n",
        "\n",
        "ner_model = train_model(ner_config, download=True) "
      ],
      "execution_count": 0,
      "outputs": []
    },
    {
      "cell_type": "code",
      "metadata": {
        "id": "tDKZGEojAO9-",
        "colab_type": "code",
        "colab": {}
      },
      "source": [
        "marked = []\n",
        "\n",
        "for text in data.text.values[:1000]:\n",
        "    if len(text.split()) > 100:\n",
        "        continue\n",
        "    pred = ner_model([text])\n",
        "    sent, tags = pred[0][0], pred[1][0]\n",
        "    if len(set(tags[0])) > 1:\n",
        "        marked.append(list(zip(sent,tags)))"
      ],
      "execution_count": 0,
      "outputs": []
    },
    {
      "cell_type": "code",
      "metadata": {
        "id": "eahG5nS6AijS",
        "colab_type": "code",
        "colab": {}
      },
      "source": [
        "marked"
      ],
      "execution_count": 0,
      "outputs": []
    },
    {
      "cell_type": "markdown",
      "metadata": {
        "id": "GDEdgKjqEOBR",
        "colab_type": "text"
      },
      "source": [
        "1) Любопытно, что в моем файле Valid.txt \"Звезды Playstation Битва сильнейших\" размечена как игра (по крайней мере так называется сборник игр). Обученная же модель демонстрирует такой результат: ('Звезды', 'O'), ('Playstation', 'O'),('Битва', 'O'), ('сильнейших', 'O'). По всей видимости, потому что слово Playstation всё же чаще размечалось как \"О\".\n",
        "2) Игра \"Дурная репутация 2\" стоимостью 600 р. не определилась как именованная сущность. Вероятно, слишком мало кириллических названий в обучающей выборке. Потдверждают эту гипотезу и разметка соседствующих \"Far Cry 4\" и \"фар край 4\". Первая из них выделилась как именованная сущность, а вторая нет.\n",
        "3) Объявление из 3 слов: \"Джойстик и провода\". Почему-то \"Джойстик\" обозначен как игра. Некоторые короткие объявления сразу начинаются с названий игр. Возможно также играет роль и нулевая частотность этого слова в обучающей выборке. Однако с \"Дурной репутацией 2\" так не произошло\n",
        "4) Одно из объявлений обучающей выборки состояло из внушительного списка игр, написанного полностью в верхнем регистре. Поэтому обученная модель решила, что предложение \"ПРОДАЮ НОВЫЙ ДИСК ТОРГ УМЕСТЕН ИЛИ ОБМЕН\" это название одной игры. \n",
        "5) Возможно модель считает, что некоторые цифры более характерны для игр (из более очевидного - 2, 3, 4), а другие нет ( 600, 1200, 1500 - это обычно цены, например). В следующем списке \"Murdered 300, Infamous 500, Assassin's creed 800, The division 1200\"число \"500\" было отмечено моделью как продолжение именованной сущности, хотя остальные цены в данном контексте были верно распознаны как что-то отличное от именованной сущности. \n"
      ]
    },
    {
      "cell_type": "code",
      "metadata": {
        "id": "c1mRlNeh9oMY",
        "colab_type": "code",
        "colab": {
          "base_uri": "https://localhost:8080/",
          "height": 204
        },
        "outputId": "6a05c7de-4a21-4be4-ac94-16fc50014f2a"
      },
      "source": [
        "ner_model(['Devil May Cry', 'Продам настольную игру Шахматы', 'Джойстик', 'СОВЕРШЕННО СЛУЧАЙНЫЙ ТЕКСТ, НАБРАННЫЙ С КАПС ЛОКОМ', 'ps4 - это не игра, а приставка'])"
      ],
      "execution_count": 27,
      "outputs": [
        {
          "output_type": "execute_result",
          "data": {
            "text/plain": [
              "[[['Devil', 'May', 'Cry'],\n",
              "  ['Продам', 'настольную', 'игру', 'Шахматы'],\n",
              "  ['Джойстик'],\n",
              "  ['СОВЕРШЕННО', 'СЛУЧАЙНЫЙ', 'ТЕКСТ', ',', 'НАБРАННЫЙ', 'С', 'КАПС', 'ЛОКОМ'],\n",
              "  ['ps4', '-', 'это', 'не', 'игра', ',', 'а', 'приставка']],\n",
              " [['B-Game', 'I-Game', 'I-Game'],\n",
              "  ['O', 'O', 'O', 'O'],\n",
              "  ['B-Game'],\n",
              "  ['O', 'B-Game', 'I-Game', 'O', 'B-Game', 'I-Game', 'I-Game', 'I-Game'],\n",
              "  ['B-Game', 'O', 'O', 'O', 'O', 'O', 'O', 'O']]]"
            ]
          },
          "metadata": {
            "tags": []
          },
          "execution_count": 27
        }
      ]
    },
    {
      "cell_type": "markdown",
      "metadata": {
        "id": "NidmKZ7VJDCj",
        "colab_type": "text"
      },
      "source": [
        "Некоторые другие найденные ошибки без комментариев:\n",
        "\n",
        "\"Thief's\", 'I-Game'),\n",
        "  ('End', 'I-Game'),\n",
        "  ('(', 'I-Game'),\n",
        "  ('PS4', 'O'),\n",
        "  (')', 'O'),\n",
        "\n",
        "\n",
        "  ('xbox', 'B-Game'), ('one', 'I-Game')\n",
        "  'ps3', 'B-Game'\n",
        "    ('box', 'O'), ('360', 'O')\n",
        "\n",
        "  ('Toefl', 'B-Game'),\n",
        "  ('Test', 'I-Game'),\n",
        "  ('-', 'O'),\n",
        "  ('Рекордный', 'O'),\n",
        "  ('Результат', 'O'),\n",
        "  ('-', 'O'),\n",
        "  ('50', 'O'),\n",
        "  ('рублей', 'O'),\n",
        "\n",
        "  'Nyko', 'B-Game'\n",
        "\n",
        "  ('Средиземье', 'O'),\n",
        "  (':', 'O'),\n",
        "  ('Тени', 'B-Game'),\n",
        "  ('Мордора', 'I-Game')\n",
        "\n",
        "  'The', 'B-Game'),\n",
        "  ('Ship', 'I-Game'),\n",
        "  ('Остаться', 'O'),\n",
        "  ('в', 'O'),\n",
        "  ('живых', 'O')\n",
        "\n",
        "\n",
        "  ('ПРОДАЮ', 'B-Game'),\n",
        "  ('НОВЫЙ', 'I-Game'),\n",
        "  ('ДИСК', 'I-Game'),\n",
        "  ('ТОРГ', 'I-Game'),\n",
        "  ('УМЕСТЕН', 'I-Game'),\n",
        "  ('ИЛИ', 'I-Game'),\n",
        "  ('ОБМЕН', 'I-Game')],\n",
        "\n",
        "  'слифин', 'B-Game'),\n",
        "  ('догс', 'I-Game'),\n",
        "  ('вачь', 'I-Game'),\n",
        "  ('догс', 'I-Game'),\n",
        "  ('гат', 'I-Game'),\n",
        "  ('5', 'I-Game'),\n",
        "\n",
        "  'Murdered', 'B-Game'),\n",
        "  ('300', 'O')\n",
        "\n",
        "  ('Infamous', 'B-Game'),\n",
        "  ('500', 'I-Game'),\n",
        "\n",
        "  \"Assassin's\", 'B-Game'),\n",
        "  ('creed', 'I-Game'),\n",
        "  ('800', 'O'),\n",
        "\n",
        "  ('The', 'B-Game'),\n",
        "  ('division', 'I-Game'),\n",
        "  ('1200', 'O'),\n",
        "\n",
        "  ('Assassins', 'B-Game'), ('Creed', 'I-Game'), ('Единство', 'O')]\n",
        "\n",
        "  'Uncharted', 'B-Game'),\n",
        "  ('4', 'I-Game'),\n",
        "  (':', 'O'),\n",
        "  ('Путь', 'O'),\n",
        "  ('вора', 'O'),\n",
        "\n",
        "  'компьютерная', 'O'),\n",
        "  ('игра', 'O'),\n",
        "  ('\\xa0', 'O'),\n",
        "  ('в', 'O'),\n",
        "  ('жанре', 'O'),\n",
        "  ('\\xa0', 'O'),\n",
        "  ('action', 'B-Game'),\n",
        "  ('-', 'O'),\n",
        "\n",
        "  SonyPlayStation', 'B-Game'),\n",
        "  ('4', 'I-Game'),\n",
        "   [('Uncharted', 'B-Game'),\n",
        "  ('бездна', 'O'),\n",
        "  ('рейман', 'O'),\n",
        "  ('1и', 'O'),\n",
        "  ('2', 'O'),\n",
        "  ('резистенс', 'O'),\n",
        "  ('нинза', 'O'),\n",
        "  ('гайден', 'O'),\n",
        "  ('2', 'O')\n",
        "\n",
        "\n",
        "  ('Far', 'B-Game'),\n",
        "  ('cry', 'I-Game'),\n",
        "  ('4', 'I-Game'),\n",
        "  (',', 'O'),\n",
        "  ('фар', 'O'),\n",
        "  ('край', 'O'),\n",
        "  ('4', 'O'),\n",
        "\n",
        "  'Epic', 'B-Game'),\n",
        "  ('Mickey', 'I-Game'),\n",
        "  ('Две', 'O'),\n",
        "  ('легенды', 'O')"
      ]
    }
  ]
}