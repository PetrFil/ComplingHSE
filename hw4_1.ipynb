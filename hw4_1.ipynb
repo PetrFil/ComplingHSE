{
  "nbformat": 4,
  "nbformat_minor": 0,
  "metadata": {
    "colab": {
      "name": "hw4-1.ipynb",
      "provenance": [],
      "collapsed_sections": []
    },
    "kernelspec": {
      "name": "python3",
      "display_name": "Python 3"
    }
  },
  "cells": [
    {
      "cell_type": "markdown",
      "metadata": {
        "id": "cnGpzt3E-Ula",
        "colab_type": "text"
      },
      "source": [
        "Часть 1"
      ]
    },
    {
      "cell_type": "code",
      "metadata": {
        "id": "7vIpC7-XdSuZ",
        "colab_type": "code",
        "colab": {}
      },
      "source": [
        "#!pip install yargy\n",
        "import pandas as pd\n",
        "pd.set_option('display.max_colwidth', -1)\n",
        "from yargy import Parser, rule, or_\n",
        "from yargy.tokenizer import MorphTokenizer\n",
        "from yargy.pipelines import morph_pipeline, caseless_pipeline\n",
        "from yargy.interpretation import fact"
      ],
      "execution_count": 0,
      "outputs": []
    },
    {
      "cell_type": "code",
      "metadata": {
        "id": "c1b7vkELeLXX",
        "colab_type": "code",
        "colab": {}
      },
      "source": [
        "!wget https://raw.githubusercontent.com/mannefedov/compling_nlp_hse_course/master/data/pristavki.csv\n",
        "data = pd.read_csv('pristavki.csv', header=None, names=['text'])"
      ],
      "execution_count": 0,
      "outputs": []
    },
    {
      "cell_type": "code",
      "metadata": {
        "id": "tDW9OuuqeaQH",
        "colab_type": "code",
        "colab": {}
      },
      "source": [
        "\n",
        "game = fact('game', ['name', 'release'])\n",
        "releases = {'san andreas':'San Andreas', 'sanandreas':'San Andreas',\n",
        "            'vice city': 'Vice City','vicecity': 'Vice City',\n",
        "            '5': 'V', 'v': 'V', '4': 'IV', 'iv': 'IV',\n",
        "            'shift': 'Shift', 'underground': 'Underground', 'most wanted': 'Most Wanted', 'carbon': 'Carbon', 'rivals':'Rivals'}\n",
        "fifa = rule(morph_pipeline(['fifa', 'фифа', 'фифв', 'фифу']).interpretation(game.name),\n",
        "            morph_pipeline(['10', '11', '12', '13', '14', '15', '16', '17', '18', '19', '20', 'STREET']).interpretation(game.release))\n",
        "NFS = rule(morph_pipeline(['NFS', 'Need for Speed', 'нфс']).interpretation(game.name),\n",
        "           caseless_pipeline(releases).interpretation(game.release.normalized().custom(releases.get)))\n",
        "GTA = rule(morph_pipeline(['gta', 'grand theft auto', 'гта']).interpretation(game.name),\n",
        "           caseless_pipeline(releases).interpretation(game.release.normalized().custom(releases.get)))\n",
        "GAME = or_(fifa, NFS, GTA).interpretation(game)\n",
        "parser = Parser(GAME)"
      ],
      "execution_count": 0,
      "outputs": []
    },
    {
      "cell_type": "code",
      "metadata": {
        "id": "UY-NSBOTHpv3",
        "colab_type": "code",
        "colab": {
          "base_uri": "https://localhost:8080/",
          "height": 54
        },
        "outputId": "46cbb8e5-7c6c-474d-e504-9c8f54506129"
      },
      "source": [
        "matches = []\n",
        "list(parser.findall('GTA sanandreas'))[0].fact\n"
      ],
      "execution_count": 7,
      "outputs": [
        {
          "output_type": "execute_result",
          "data": {
            "text/plain": [
              "game(name='GTA',\n",
              "     release='San Andreas')"
            ]
          },
          "metadata": {
            "tags": []
          },
          "execution_count": 7
        }
      ]
    },
    {
      "cell_type": "code",
      "metadata": {
        "id": "ytWXtLRpklFm",
        "colab_type": "code",
        "colab": {}
      },
      "source": [
        "for sent in data.text:\n",
        "    for match in parser.findall(sent):\n",
        "        matches.append(match.fact)\n",
        "for m in matches:\n",
        "    print(m.name, m.release)"
      ],
      "execution_count": 0,
      "outputs": []
    },
    {
      "cell_type": "code",
      "metadata": {
        "id": "4qJqf55-_vOU",
        "colab_type": "code",
        "colab": {
          "base_uri": "https://localhost:8080/",
          "height": 36
        },
        "outputId": "7f03612f-9606-4fb4-a46b-84c683f086fb"
      },
      "source": [
        "print(len(matches)) # количество найденных сущностей"
      ],
      "execution_count": 10,
      "outputs": [
        {
          "output_type": "stream",
          "text": [
            "1088\n"
          ],
          "name": "stdout"
        }
      ]
    },
    {
      "cell_type": "code",
      "metadata": {
        "id": "ExIucA6xVXp9",
        "colab_type": "code",
        "colab": {}
      },
      "source": [
        "# То же самое, но вместе с \".optional\" там, где идет информация о части (релизе), что делает ее наличие необязательным\n",
        "game = fact('game', ['name', 'release'])\n",
        "releases = {'san andreas':'San Andreas', 'sanandreas':'San Andreas',\n",
        "            'vice city': 'Vice City','vicecity': 'Vice City',\n",
        "            '5': 'V', 'v': 'V', '4': 'IV', 'iv': 'IV',\n",
        "            'shift': 'Shift', 'underground': 'Underground', 'most wanted': 'Most Wanted', 'carbon': 'Carbon', 'rivals':'Rivals'}\n",
        "fifa = rule(morph_pipeline(['fifa', 'фифа', 'фифв', 'фифу']).interpretation(game.name),\n",
        "            morph_pipeline(['10', '11', '12', '13', '14', '15', '16', '17', '18', '19', '20', 'STREET']).interpretation(game.release).optional())\n",
        "NFS = rule(morph_pipeline(['NFS', 'Need for Speed', 'нфс']).interpretation(game.name),\n",
        "           caseless_pipeline(releases).interpretation(game.release.normalized().custom(releases.get)).optional())\n",
        "GTA = rule(morph_pipeline(['gta', 'grand theft auto', 'гта']).interpretation(game.name),\n",
        "           caseless_pipeline(releases).interpretation(game.release.normalized().custom(releases.get)).optional())\n",
        "GAME = or_(fifa, NFS, GTA).interpretation(game)\n",
        "parser = Parser(GAME)"
      ],
      "execution_count": 0,
      "outputs": []
    },
    {
      "cell_type": "code",
      "metadata": {
        "id": "tPqhR3P4Vewg",
        "colab_type": "code",
        "colab": {
          "base_uri": "https://localhost:8080/",
          "height": 54
        },
        "outputId": "3d5cbc0b-6ab9-4559-ed64-73d94a31ded6"
      },
      "source": [
        "matches = []\n",
        "list(parser.findall('GTA sanandreas'))[0].fact\n"
      ],
      "execution_count": 18,
      "outputs": [
        {
          "output_type": "execute_result",
          "data": {
            "text/plain": [
              "game(name='GTA',\n",
              "     release='San Andreas')"
            ]
          },
          "metadata": {
            "tags": []
          },
          "execution_count": 18
        }
      ]
    },
    {
      "cell_type": "code",
      "metadata": {
        "id": "CGzoNlaDVfVq",
        "colab_type": "code",
        "colab": {}
      },
      "source": [
        "for sent in data.text:\n",
        "    for match in parser.findall(sent):\n",
        "        matches.append(match.fact)\n",
        "for m in matches:\n",
        "    print(m.name, m.release)"
      ],
      "execution_count": 0,
      "outputs": []
    },
    {
      "cell_type": "code",
      "metadata": {
        "id": "rtbCWsZVVi21",
        "colab_type": "code",
        "colab": {
          "base_uri": "https://localhost:8080/",
          "height": 36
        },
        "outputId": "1dba0043-a578-454d-c604-7fd4d3d24354"
      },
      "source": [
        "print(len(matches))"
      ],
      "execution_count": 20,
      "outputs": [
        {
          "output_type": "stream",
          "text": [
            "1449\n"
          ],
          "name": "stdout"
        }
      ]
    },
    {
      "cell_type": "markdown",
      "metadata": {
        "id": "4gM0VCdWWhOe",
        "colab_type": "text"
      },
      "source": [
        "Можно сделать вывод, что правила для релизов игр в первом случае были прописаны неидеально (Охват 1088 из 1449). В те 1449 штук также могли входить игры без упоминания их подвидов (в объявлениях вроде \"продаю приставку с играми NFS, Fifa, GTA\"), но думаю, что таких мало, и надо просто смотреть какие еще виды игр и способы их написания существуют. Ещё наверняка были охвачены не все возможные опечатки наподобие \"фифв\" для \"Fifa\". "
      ]
    }
  ]
}