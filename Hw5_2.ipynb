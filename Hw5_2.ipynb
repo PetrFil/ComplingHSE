{
  "nbformat": 4,
  "nbformat_minor": 0,
  "metadata": {
    "colab": {
      "name": "Hw5-2.ipynb",
      "provenance": []
    },
    "kernelspec": {
      "name": "python3",
      "display_name": "Python 3"
    }
  },
  "cells": [
    {
      "cell_type": "code",
      "metadata": {
        "id": "wsQ4PY42Onmg",
        "colab_type": "code",
        "colab": {}
      },
      "source": [
        "!pip install protobuf tqdm wheel"
      ],
      "execution_count": 0,
      "outputs": []
    },
    {
      "cell_type": "code",
      "metadata": {
        "id": "ZKNHAk38On0J",
        "colab_type": "code",
        "colab": {}
      },
      "source": [
        "!git clone --branch=stable https://github.com/bigartm/bigartm.git"
      ],
      "execution_count": 0,
      "outputs": []
    },
    {
      "cell_type": "code",
      "metadata": {
        "id": "GXCNnYX5On9q",
        "colab_type": "code",
        "colab": {
          "base_uri": "https://localhost:8080/",
          "height": 36
        },
        "outputId": "4207d50f-2979-41a0-c946-ee72564da173"
      },
      "source": [
        "cd bigartm"
      ],
      "execution_count": 17,
      "outputs": [
        {
          "output_type": "stream",
          "text": [
            "/content/bigartm/build/bigartm\n"
          ],
          "name": "stdout"
        }
      ]
    },
    {
      "cell_type": "code",
      "metadata": {
        "id": "qFFrF587OoGp",
        "colab_type": "code",
        "colab": {}
      },
      "source": [
        "mkdir build"
      ],
      "execution_count": 0,
      "outputs": []
    },
    {
      "cell_type": "code",
      "metadata": {
        "id": "-krWNrkCOoPC",
        "colab_type": "code",
        "colab": {
          "base_uri": "https://localhost:8080/",
          "height": 36
        },
        "outputId": "5c76cb38-0346-410c-ba1e-8f510f90485f"
      },
      "source": [
        "cd build"
      ],
      "execution_count": 19,
      "outputs": [
        {
          "output_type": "stream",
          "text": [
            "/content/bigartm/build/bigartm/build\n"
          ],
          "name": "stdout"
        }
      ]
    },
    {
      "cell_type": "code",
      "metadata": {
        "id": "4gF1NfySOvlk",
        "colab_type": "code",
        "colab": {}
      },
      "source": [
        "!cmake .."
      ],
      "execution_count": 0,
      "outputs": []
    },
    {
      "cell_type": "code",
      "metadata": {
        "id": "Gi-0w-jLOvwG",
        "colab_type": "code",
        "colab": {}
      },
      "source": [
        "!make"
      ],
      "execution_count": 0,
      "outputs": []
    },
    {
      "cell_type": "code",
      "metadata": {
        "id": "rOt3r7g1OoX9",
        "colab_type": "code",
        "colab": {}
      },
      "source": [
        "!pip install python/bigartm*.whl -U"
      ],
      "execution_count": 0,
      "outputs": []
    },
    {
      "cell_type": "code",
      "metadata": {
        "id": "3pevlPxqPLJf",
        "colab_type": "code",
        "colab": {
          "base_uri": "https://localhost:8080/",
          "height": 36
        },
        "outputId": "8a35c159-e7e2-42a2-dced-70232c3ebcc2"
      },
      "source": [
        "cd ../.."
      ],
      "execution_count": 23,
      "outputs": [
        {
          "output_type": "stream",
          "text": [
            "/content/bigartm/build\n"
          ],
          "name": "stdout"
        }
      ]
    },
    {
      "cell_type": "code",
      "metadata": {
        "id": "9XTdgK2FPMwL",
        "colab_type": "code",
        "colab": {}
      },
      "source": [
        "!pip install pymorphy2[fast] nltk gensim"
      ],
      "execution_count": 0,
      "outputs": []
    },
    {
      "cell_type": "code",
      "metadata": {
        "id": "8cMUrQUyEi0P",
        "colab_type": "code",
        "colab": {}
      },
      "source": [
        "import artm\n",
        "%matplotlib inline\n",
        "import glob\n",
        "import os, re\n",
        "import matplotlib.pyplot as plt\n",
        "from collections import defaultdict, Counter\n",
        "from nltk.corpus import stopwords\n",
        "import numpy as np\n",
        "from pymorphy2 import MorphAnalyzer\n",
        "import gensim, nltk\n",
        "import string\n",
        "morph = MorphAnalyzer()\n",
        "from nltk.tokenize import word_tokenize"
      ],
      "execution_count": 0,
      "outputs": []
    },
    {
      "cell_type": "code",
      "metadata": {
        "id": "A2JJjN6_EzpX",
        "colab_type": "code",
        "outputId": "be1e5cb1-8917-4211-f174-51920629ae32",
        "colab": {
          "base_uri": "https://localhost:8080/",
          "height": 110
        }
      },
      "source": [
        "nltk.download('punkt')\n",
        "nltk.download('stopwords')"
      ],
      "execution_count": 27,
      "outputs": [
        {
          "output_type": "stream",
          "text": [
            "[nltk_data] Downloading package punkt to /root/nltk_data...\n",
            "[nltk_data]   Unzipping tokenizers/punkt.zip.\n",
            "[nltk_data] Downloading package stopwords to /root/nltk_data...\n",
            "[nltk_data]   Unzipping corpora/stopwords.zip.\n"
          ],
          "name": "stdout"
        },
        {
          "output_type": "execute_result",
          "data": {
            "text/plain": [
              "True"
            ]
          },
          "metadata": {
            "tags": []
          },
          "execution_count": 27
        }
      ]
    },
    {
      "cell_type": "code",
      "metadata": {
        "id": "XeDbiaeqE3AZ",
        "colab_type": "code",
        "colab": {}
      },
      "source": [
        "stops = set(stopwords.words('russian')) | {'gt',}\n",
        "def remove_tags(text):\n",
        "    return re.sub(r'<[^>]+>', '', text)\n",
        "\n",
        "\n",
        "def opt_normalize(texts, top=None):\n",
        "    uniq = Counter()\n",
        "    for text in texts:\n",
        "        uniq.update(text)\n",
        "    \n",
        "    norm_uniq = {word:morph.parse(word.replace(':', ''))[0].normal_form for word, _ in uniq.most_common(top)}\n",
        "    \n",
        "    norm_texts = []\n",
        "    for text in texts:\n",
        "        \n",
        "        norm_words = [norm_uniq.get(word) for word in text]\n",
        "        norm_words = [word for word in norm_words if word and word not in stops]\n",
        "        norm_texts.append(norm_words)\n",
        "        \n",
        "    return norm_texts\n",
        "\n",
        "def tokenize(text):\n",
        "    words = [word.strip(string.punctuation) for word in text.split()]\n",
        "    words = [word for word in words if word]\n",
        "    \n",
        "    return words"
      ],
      "execution_count": 0,
      "outputs": []
    },
    {
      "cell_type": "code",
      "metadata": {
        "id": "xbfzFGXqE6v9",
        "colab_type": "code",
        "colab": {}
      },
      "source": [
        "!wget https://github.com/mannefedov/compling_nlp_hse_course/raw/master/data/habr_texts.txt.zip"
      ],
      "execution_count": 0,
      "outputs": []
    },
    {
      "cell_type": "code",
      "metadata": {
        "id": "xJHZrdwHE8fa",
        "colab_type": "code",
        "outputId": "0e499e18-d4ff-4b56-e880-07874b93aa52",
        "colab": {
          "base_uri": "https://localhost:8080/",
          "height": 54
        }
      },
      "source": [
        "!unzip habr_texts.txt.zip"
      ],
      "execution_count": 30,
      "outputs": [
        {
          "output_type": "stream",
          "text": [
            "Archive:  habr_texts.txt.zip\n",
            "  inflating: habr_texts.txt          \n"
          ],
          "name": "stdout"
        }
      ]
    },
    {
      "cell_type": "markdown",
      "metadata": {
        "id": "q0jx6Vjvakqz",
        "colab_type": "text"
      },
      "source": [
        "Нормализация"
      ]
    },
    {
      "cell_type": "code",
      "metadata": {
        "id": "w-smcZiYE_7w",
        "colab_type": "code",
        "colab": {}
      },
      "source": [
        "texts = open('habr_texts.txt').read().splitlines()\n",
        "texts = opt_normalize([tokenize(remove_tags(text.lower())) for text in texts], 30000)"
      ],
      "execution_count": 0,
      "outputs": []
    },
    {
      "cell_type": "markdown",
      "metadata": {
        "id": "-s6OpI2WbEJV",
        "colab_type": "text"
      },
      "source": [
        "Добавляем n-граммы"
      ]
    },
    {
      "cell_type": "code",
      "metadata": {
        "id": "elV3pCOzayrF",
        "colab_type": "code",
        "colab": {}
      },
      "source": [
        "ph = gensim.models.Phrases(texts, scoring='npmi', threshold=0.1, \n",
        "                           common_terms=set(stopwords.words('russian'))) \n",
        "p = gensim.models.phrases.Phraser(ph)\n",
        "ngrammed_habr_texts = p[texts]\n"
      ],
      "execution_count": 0,
      "outputs": []
    },
    {
      "cell_type": "markdown",
      "metadata": {
        "id": "HF3dHOWybozl",
        "colab_type": "text"
      },
      "source": [
        "Сохраняем в формате .vw"
      ]
    },
    {
      "cell_type": "code",
      "metadata": {
        "id": "9Cb-QBXUboWc",
        "colab_type": "code",
        "colab": {}
      },
      "source": [
        "f = open('ngrammed_habr_texts.vw', 'w')\n",
        "\n",
        "for i, text in enumerate(texts):\n",
        "    c = Counter(text)\n",
        "    doc = 'doc_'+ str(i) + ' '\n",
        "    vw_text = ' '.join([x+':'+str(c[x]) for x in c])\n",
        "    \n",
        "    f.write(doc + vw_text  + '\\n')\n",
        "f.close()\n"
      ],
      "execution_count": 0,
      "outputs": []
    },
    {
      "cell_type": "code",
      "metadata": {
        "id": "PYAgevwUFNRK",
        "colab_type": "code",
        "colab": {}
      },
      "source": [
        "def print_measures(model_artm):\n",
        "    print('Sparsity Phi: {0:.3f} ARTM)'.format(\n",
        "        model_artm.score_tracker['SparsityPhiScore'].last_value)\n",
        ")\n",
        "    print('Sparsity Theta: {0:.3f} (ARTM)'.format(\n",
        "        model_artm.score_tracker['SparsityThetaScore'].last_value))\n",
        "\n",
        "    print('Kernel contrast: {0:.3f} (ARTM)'.format(\n",
        "        model_artm.score_tracker['TopicKernelScore'].last_average_contrast))\n",
        "\n",
        "    print('Kernel purity: {0:.3f} (ARTM)'.format(\n",
        "        model_artm.score_tracker['TopicKernelScore'].last_average_purity))\n",
        "\n",
        "    print('Perplexity: {0:.3f} (ARTM)'.format(\n",
        "        model_artm.score_tracker['PerplexityScore'].last_value)\n",
        ")\n",
        "    plt.plot(range(model_artm.num_phi_updates), model_artm.score_tracker['PerplexityScore'].value, 'r--', linewidth=2)\n",
        "    plt.xlabel('Iterations count')\n",
        "    plt.ylabel(' ARTM perp. (red)')\n",
        "    plt.grid(True)\n",
        "    plt.show()\n",
        "    "
      ],
      "execution_count": 0,
      "outputs": []
    },
    {
      "cell_type": "code",
      "metadata": {
        "id": "yFYKpzUlFU_2",
        "colab_type": "code",
        "colab": {}
      },
      "source": [
        "batch_vectorizer = artm.BatchVectorizer(data_path='ngrammed_habr_texts.vw',\n",
        "                                        data_format='vowpal_wabbit',\n",
        "                                        target_folder='batches',\n",
        "                                       batch_size=1000)"
      ],
      "execution_count": 0,
      "outputs": []
    },
    {
      "cell_type": "code",
      "metadata": {
        "id": "Wx2Q_-JFFbtE",
        "colab_type": "code",
        "colab": {}
      },
      "source": [
        "batch_vectorizer = artm.BatchVectorizer(data_path='batches', \n",
        "                                        data_format='batches')"
      ],
      "execution_count": 0,
      "outputs": []
    },
    {
      "cell_type": "markdown",
      "metadata": {
        "id": "E022zYxnf6nt",
        "colab_type": "text"
      },
      "source": [
        "Создадим словарь. Фильтруем слишком редкие и слишком частотные слова (увеличил min_df)"
      ]
    },
    {
      "cell_type": "code",
      "metadata": {
        "id": "QA6H51LlFjtK",
        "colab_type": "code",
        "colab": {}
      },
      "source": [
        "dictionary = artm.Dictionary()"
      ],
      "execution_count": 0,
      "outputs": []
    },
    {
      "cell_type": "code",
      "metadata": {
        "id": "FVlLd-pZHLCI",
        "colab_type": "code",
        "outputId": "6009ca62-7e75-4ad6-ac2e-d96bf3b479ff",
        "colab": {
          "base_uri": "https://localhost:8080/",
          "height": 36
        }
      },
      "source": [
        "dictionary.gather(data_path='batches')\n",
        "dictionary.filter(class_id='@default_class',\n",
        "                  min_df=20, max_df=2000)"
      ],
      "execution_count": 78,
      "outputs": [
        {
          "output_type": "execute_result",
          "data": {
            "text/plain": [
              "artm.Dictionary(name=396cbc2c-4c16-49f3-937f-8bf1dfa19586, num_entries=7622)"
            ]
          },
          "metadata": {
            "tags": []
          },
          "execution_count": 78
        }
      ]
    },
    {
      "cell_type": "code",
      "metadata": {
        "id": "VBHbSg5eHO5d",
        "colab_type": "code",
        "colab": {}
      },
      "source": [
        "dictionary.save_text('dict.txt')"
      ],
      "execution_count": 0,
      "outputs": []
    },
    {
      "cell_type": "markdown",
      "metadata": {
        "id": "-DrfORb3g8ib",
        "colab_type": "text"
      },
      "source": [
        "Файл со словарем просто смотрел и не редактировал. Мне показалось, что в нем нормальные слова. Можно убрать какие-то числа, даты и слова из кода, но они тоже могут быть важны в тематическом моделировании"
      ]
    },
    {
      "cell_type": "code",
      "metadata": {
        "id": "66WDu-vWJrxm",
        "colab_type": "code",
        "colab": {}
      },
      "source": [
        "model_artm = artm.ARTM(topic_names=['topic_{}'.format(i) for i in range(200)],\n",
        "                       \n",
        "                       regularizers=[\n",
        "                           artm.DecorrelatorPhiRegularizer(\n",
        "                                            name='Decorr', tau=0.25, \n",
        "                                            class_ids=['@default_class'],\n",
        "                                            topic_names=['topic_{}'.format(i) for i in range(0, 200)]),\n",
        "                           \n",
        "                           artm.SmoothSparsePhiRegularizer(\n",
        "                                            name='SmoothPhi_1', \n",
        "                                            class_ids=['@default_class'],\n",
        "                                            tau=0.15, \n",
        "                                            topic_names=['topic_{}'.format(i) for i in range(0, 200)])\n",
        "                                    ]\n",
        "                        )"
      ],
      "execution_count": 0,
      "outputs": []
    },
    {
      "cell_type": "code",
      "metadata": {
        "id": "1YZfdj9tJuWp",
        "colab_type": "code",
        "colab": {}
      },
      "source": [
        "model_artm.initialize(dictionary=dictionary)"
      ],
      "execution_count": 0,
      "outputs": []
    },
    {
      "cell_type": "code",
      "metadata": {
        "id": "0Oe7w5JuJxGz",
        "colab_type": "code",
        "colab": {}
      },
      "source": [
        "model_artm.scores.add(artm.PerplexityScore(name='PerplexityScore',\n",
        "                                                    dictionary=dictionary))\n",
        "model_artm.scores.add(artm.SparsityPhiScore(name='SparsityPhiScore'))\n",
        "model_artm.scores.add(artm.SparsityThetaScore(name='SparsityThetaScore'))\n",
        "model_artm.scores.add(artm.TopicKernelScore(name='TopicKernelScore', probability_mass_threshold=0.1))\n",
        "model_artm.scores.add(artm.TopTokensScore(class_id='@default_class', name='TopTokensScore_1', num_tokens=10))"
      ],
      "execution_count": 0,
      "outputs": []
    },
    {
      "cell_type": "code",
      "metadata": {
        "id": "7O9dVT7FOpZ-",
        "colab_type": "code",
        "colab": {}
      },
      "source": [
        "model_artm.num_document_passes = 2\n",
        "model_artm.fit_offline(batch_vectorizer=batch_vectorizer, num_collection_passes=3)"
      ],
      "execution_count": 0,
      "outputs": []
    },
    {
      "cell_type": "code",
      "metadata": {
        "id": "N9OYhIIiWMju",
        "colab_type": "code",
        "colab": {}
      },
      "source": [
        "model_artm.regularizers.add(artm.SmoothSparsePhiRegularizer(name='SparsePhi', tau=-0.15, \n",
        "                                                            topic_names=['topic_{}'.format(i) for i in range(1, 200)],\n",
        "                                                            ))\n",
        "model_artm.regularizers.add(artm.SmoothSparseThetaRegularizer(name='SparseTheta', tau=-0.15, \n",
        "                                                              topic_names=['topic_{}'.format(i) for i in range(1, 200)]))"
      ],
      "execution_count": 0,
      "outputs": []
    },
    {
      "cell_type": "code",
      "metadata": {
        "id": "xewO8DABWOfb",
        "colab_type": "code",
        "colab": {}
      },
      "source": [
        "model_artm.fit_offline(batch_vectorizer=batch_vectorizer,num_collection_passes=1)"
      ],
      "execution_count": 0,
      "outputs": []
    },
    {
      "cell_type": "code",
      "metadata": {
        "id": "fcLAg_HQWQ93",
        "colab_type": "code",
        "colab": {}
      },
      "source": [
        "phi_tau = model_artm.regularizers['SparsePhi'].tau\n",
        "theta_tau = model_artm.regularizers['SparseTheta'].tau\n",
        "\n",
        "for i in range(10):\n",
        "    model_artm.regularizers['SparsePhi'].tau = (phi_tau + (phi_tau*0.5))\n",
        "    model_artm.regularizers['SparseTheta'].tau = (theta_tau + (theta_tau*0.1))\n",
        "    \n",
        "    model_artm.fit_offline(batch_vectorizer=batch_vectorizer,num_collection_passes=1)"
      ],
      "execution_count": 0,
      "outputs": []
    },
    {
      "cell_type": "code",
      "metadata": {
        "id": "zBjUXT53WS7X",
        "colab_type": "code",
        "outputId": "206b0b21-781b-4da1-e8c5-b5d8040ea69f",
        "colab": {
          "base_uri": "https://localhost:8080/",
          "height": 372
        }
      },
      "source": [
        "print_measures(model_artm)"
      ],
      "execution_count": 89,
      "outputs": [
        {
          "output_type": "stream",
          "text": [
            "Sparsity Phi: 0.658 ARTM)\n",
            "Sparsity Theta: 0.106 (ARTM)\n",
            "Kernel contrast: 0.223 (ARTM)\n",
            "Kernel purity: 0.201 (ARTM)\n",
            "Perplexity: 374.264 (ARTM)\n"
          ],
          "name": "stdout"
        },
        {
          "output_type": "display_data",
          "data": {
            "image/png": "[encoded data removed]",
            "text/plain": [
              "<Figure size 432x288 with 1 Axes>"
            ]
          },
          "metadata": {
            "tags": []
          }
        }
      ]
    },
    {
      "cell_type": "markdown",
      "metadata": {
        "id": "eWNnREc7i4kQ",
        "colab_type": "text"
      },
      "source": [
        "За счет более высокого уровня min df вырос показатель Perplexity, но возможно могли потеряться значимые для тем редкие слова."
      ]
    },
    {
      "cell_type": "code",
      "metadata": {
        "id": "TTgyqvfLWX88",
        "colab_type": "code",
        "colab": {}
      },
      "source": [
        "for topic_name in model_artm.topic_names[:50]:\n",
        "    print(topic_name + ': ')\n",
        "    try:\n",
        "        for x in model_artm.score_tracker['TopTokensScore_1'].last_tokens[topic_name]:\n",
        "            print(x)\n",
        "        print('---------')\n",
        "    \n",
        "    except KeyError:\n",
        "        continue"
      ],
      "execution_count": 0,
      "outputs": []
    },
    {
      "cell_type": "markdown",
      "metadata": {
        "id": "ydzRHWgQkSQK",
        "colab_type": "text"
      },
      "source": [
        "Тема 19 навевает мысли о том, что стоит уменьшить верхнюю границу частотности слов при создании словаря. \n",
        "topic_19: \n",
        "to\n",
        "the\n",
        "in\n",
        "a\n",
        "be\n",
        "you\n",
        "that\n",
        "for\n",
        "on\n",
        "are\n",
        "Уменьшим также нижнюю границу с 20 до 15. Еще попробуем уменьшить количество тем"
      ]
    },
    {
      "cell_type": "code",
      "metadata": {
        "id": "kKhygTZwkfap",
        "colab_type": "code",
        "colab": {
          "base_uri": "https://localhost:8080/",
          "height": 36
        },
        "outputId": "415853cf-d059-4de3-8458-0ed0935f2343"
      },
      "source": [
        "dictionary = artm.Dictionary()\n",
        "dictionary.gather(data_path='batches')\n",
        "dictionary.filter(class_id='@default_class',\n",
        "                  min_df=15, max_df=1500)\n"
      ],
      "execution_count": 116,
      "outputs": [
        {
          "output_type": "execute_result",
          "data": {
            "text/plain": [
              "artm.Dictionary(name=000ac00b-d3ca-4715-8bbb-5cda653e2565, num_entries=8957)"
            ]
          },
          "metadata": {
            "tags": []
          },
          "execution_count": 116
        }
      ]
    },
    {
      "cell_type": "code",
      "metadata": {
        "id": "oXgfj0p-lFTA",
        "colab_type": "code",
        "colab": {}
      },
      "source": [
        "model_artm = artm.ARTM(topic_names=['topic_{}'.format(i) for i in range(50)],\n",
        "                       \n",
        "                       regularizers=[\n",
        "                           artm.DecorrelatorPhiRegularizer(\n",
        "                                            name='Decorr', tau=0.25, \n",
        "                                            class_ids=['@default_class'],\n",
        "                                            topic_names=['topic_{}'.format(i) for i in range(0, 200)]),\n",
        "                           \n",
        "                           artm.SmoothSparsePhiRegularizer(\n",
        "                                            name='SmoothPhi_1', \n",
        "                                            class_ids=['@default_class'],\n",
        "                                            tau=0.15, \n",
        "                                            topic_names=['topic_{}'.format(i) for i in range(0, 200)])\n",
        "                                    ]\n",
        "                        )"
      ],
      "execution_count": 0,
      "outputs": []
    },
    {
      "cell_type": "code",
      "metadata": {
        "id": "p0dfSmXqlXJH",
        "colab_type": "code",
        "colab": {}
      },
      "source": [
        "model_artm.initialize(dictionary=dictionary)"
      ],
      "execution_count": 0,
      "outputs": []
    },
    {
      "cell_type": "code",
      "metadata": {
        "id": "qHkpE7ZQlast",
        "colab_type": "code",
        "colab": {}
      },
      "source": [
        "model_artm.scores.add(artm.PerplexityScore(name='PerplexityScore',\n",
        "                                                    dictionary=dictionary))\n",
        "model_artm.scores.add(artm.SparsityPhiScore(name='SparsityPhiScore'))\n",
        "model_artm.scores.add(artm.SparsityThetaScore(name='SparsityThetaScore'))\n",
        "model_artm.scores.add(artm.TopicKernelScore(name='TopicKernelScore', probability_mass_threshold=0.1))\n",
        "model_artm.scores.add(artm.TopTokensScore(class_id='@default_class', name='TopTokensScore_1', num_tokens=10))"
      ],
      "execution_count": 0,
      "outputs": []
    },
    {
      "cell_type": "code",
      "metadata": {
        "id": "BmdbQDJWlh0D",
        "colab_type": "code",
        "colab": {}
      },
      "source": [
        "model_artm.num_document_passes = 2\n",
        "model_artm.fit_offline(batch_vectorizer=batch_vectorizer, num_collection_passes=3)"
      ],
      "execution_count": 0,
      "outputs": []
    },
    {
      "cell_type": "code",
      "metadata": {
        "id": "HlWwbvZAlzct",
        "colab_type": "code",
        "colab": {}
      },
      "source": [
        "model_artm.regularizers.add(artm.SmoothSparsePhiRegularizer(name='SparsePhi', tau=-0.15, \n",
        "                                                            topic_names=['topic_{}'.format(i) for i in range(1, 200)],\n",
        "                                                            ))\n",
        "model_artm.regularizers.add(artm.SmoothSparseThetaRegularizer(name='SparseTheta', tau=-0.15, \n",
        "                                                              topic_names=['topic_{}'.format(i) for i in range(1, 200)]))"
      ],
      "execution_count": 0,
      "outputs": []
    },
    {
      "cell_type": "code",
      "metadata": {
        "id": "o_CIbNxml30d",
        "colab_type": "code",
        "colab": {}
      },
      "source": [
        "model_artm.fit_offline(batch_vectorizer=batch_vectorizer,num_collection_passes=1)"
      ],
      "execution_count": 0,
      "outputs": []
    },
    {
      "cell_type": "code",
      "metadata": {
        "id": "JsKiWif_l7lk",
        "colab_type": "code",
        "colab": {}
      },
      "source": [
        "phi_tau = model_artm.regularizers['SparsePhi'].tau\n",
        "theta_tau = model_artm.regularizers['SparseTheta'].tau\n",
        "\n",
        "for i in range(10):\n",
        "    model_artm.regularizers['SparsePhi'].tau = (phi_tau + (phi_tau*0.5))\n",
        "    model_artm.regularizers['SparseTheta'].tau = (theta_tau + (theta_tau*0.1))\n",
        "    \n",
        "    model_artm.fit_offline(batch_vectorizer=batch_vectorizer,num_collection_passes=1)"
      ],
      "execution_count": 0,
      "outputs": []
    },
    {
      "cell_type": "code",
      "metadata": {
        "id": "WhGqrswTmDKJ",
        "colab_type": "code",
        "colab": {
          "base_uri": "https://localhost:8080/",
          "height": 372
        },
        "outputId": "fcf9f109-95a3-42bb-b8e8-f4aa549d6736"
      },
      "source": [
        "print_measures(model_artm)"
      ],
      "execution_count": 124,
      "outputs": [
        {
          "output_type": "stream",
          "text": [
            "Sparsity Phi: 0.492 ARTM)\n",
            "Sparsity Theta: 0.032 (ARTM)\n",
            "Kernel contrast: 0.244 (ARTM)\n",
            "Kernel purity: 0.357 (ARTM)\n",
            "Perplexity: 298.712 (ARTM)\n"
          ],
          "name": "stdout"
        },
        {
          "output_type": "display_data",
          "data": {
            "image/png": "[encoded data removed]",
            "text/plain": [
              "<Figure size 432x288 with 1 Axes>"
            ]
          },
          "metadata": {
            "tags": []
          }
        }
      ]
    },
    {
      "cell_type": "markdown",
      "metadata": {
        "id": "MhDK-qSFlm2j",
        "colab_type": "text"
      },
      "source": [
        "На первый взгляд, perplexity стало лучше. Но надо будет посмотреть и на сами темы."
      ]
    },
    {
      "cell_type": "code",
      "metadata": {
        "id": "F6QABlJnmMEV",
        "colab_type": "code",
        "colab": {}
      },
      "source": [
        "for topic_name in model_artm.topic_names:\n",
        "    print(topic_name + ': ')\n",
        "    try:\n",
        "        for x in model_artm.score_tracker['TopTokensScore_1'].last_tokens[topic_name]:\n",
        "            print(x)\n",
        "        print('---------')\n",
        "    \n",
        "    except KeyError: \n",
        "        continue"
      ],
      "execution_count": 0,
      "outputs": []
    },
    {
      "cell_type": "markdown",
      "metadata": {
        "id": "okIcDJodmqcp",
        "colab_type": "text"
      },
      "source": [
        "Какие-то темы внушают оптимизм:\n",
        "topic_24: \n",
        "космический\n",
        "станция\n",
        "аппарат\n",
        "двигатель\n",
        "спутник\n",
        "километр\n",
        "поверхность\n",
        "–\n",
        "учёный\n",
        "испытание, topic_35: \n",
        "диск\n",
        "сервер\n",
        "т.е\n",
        "запись\n",
        "файл\n",
        "кластер\n",
        "приложение\n",
        "память\n",
        "хранение\n",
        "запрос\n",
        "Но далеко не все. Стоит попробовать изменить что-нибудь еще. "
      ]
    },
    {
      "cell_type": "markdown",
      "metadata": {
        "id": "ekDJQ7x5n1sV",
        "colab_type": "text"
      },
      "source": [
        "В этот раз пусть будет золотая середина - 100 тем, поменяем значения tau у регуляризаторов. Словарь будем использовать тот же(min_df=15, max_df=1500)"
      ]
    },
    {
      "cell_type": "code",
      "metadata": {
        "id": "N-4yRR2Joxij",
        "colab_type": "code",
        "colab": {}
      },
      "source": [
        "dictionary = artm.Dictionary()\n",
        "dictionary.gather(data_path='batches')\n",
        "dictionary.filter(class_id='@default_class',\n",
        "                  min_df=15, max_df=1500)"
      ],
      "execution_count": 0,
      "outputs": []
    },
    {
      "cell_type": "code",
      "metadata": {
        "id": "SuKNu5aIoERa",
        "colab_type": "code",
        "colab": {}
      },
      "source": [
        "model_artm = artm.ARTM(topic_names=['topic_{}'.format(i) for i in range(100)],\n",
        "                       \n",
        "                       regularizers=[\n",
        "                           artm.DecorrelatorPhiRegularizer(\n",
        "                                            name='Decorr', tau=0.25, \n",
        "                                            class_ids=['@default_class'],\n",
        "                                            topic_names=['topic_{}'.format(i) for i in range(0, 200)]),\n",
        "                           \n",
        "                           artm.SmoothSparsePhiRegularizer(\n",
        "                                            name='SmoothPhi_1', \n",
        "                                            class_ids=['@default_class'],\n",
        "                                            tau=0.15, \n",
        "                                            topic_names=['topic_{}'.format(i) for i in range(0, 200)])\n",
        "                                    ]\n",
        "                        )"
      ],
      "execution_count": 0,
      "outputs": []
    },
    {
      "cell_type": "code",
      "metadata": {
        "id": "Ry064gsboR8q",
        "colab_type": "code",
        "colab": {}
      },
      "source": [
        "model_artm.initialize(dictionary=dictionary)"
      ],
      "execution_count": 0,
      "outputs": []
    },
    {
      "cell_type": "code",
      "metadata": {
        "id": "yNLzdKNcoULt",
        "colab_type": "code",
        "colab": {}
      },
      "source": [
        "model_artm.scores.add(artm.PerplexityScore(name='PerplexityScore',\n",
        "                                                    dictionary=dictionary))\n",
        "model_artm.scores.add(artm.SparsityPhiScore(name='SparsityPhiScore'))\n",
        "model_artm.scores.add(artm.SparsityThetaScore(name='SparsityThetaScore'))\n",
        "model_artm.scores.add(artm.TopicKernelScore(name='TopicKernelScore', probability_mass_threshold=0.1))\n",
        "model_artm.scores.add(artm.TopTokensScore(class_id='@default_class', name='TopTokensScore_1', num_tokens=10))"
      ],
      "execution_count": 0,
      "outputs": []
    },
    {
      "cell_type": "code",
      "metadata": {
        "id": "ONfbJ0HVpl-a",
        "colab_type": "code",
        "colab": {}
      },
      "source": [
        "model_artm.num_document_passes = 2\n",
        "model_artm.fit_offline(batch_vectorizer=batch_vectorizer, num_collection_passes=3)"
      ],
      "execution_count": 0,
      "outputs": []
    },
    {
      "cell_type": "code",
      "metadata": {
        "id": "Dvn97byLqYW6",
        "colab_type": "code",
        "colab": {}
      },
      "source": [
        "model_artm.regularizers.add(artm.SmoothSparsePhiRegularizer(name='SparsePhi', tau=-0.15, \n",
        "                                                            topic_names=['topic_{}'.format(i) for i in range(1, 200)],\n",
        "                                                            ))\n",
        "model_artm.regularizers.add(artm.SmoothSparseThetaRegularizer(name='SparseTheta', tau=-0.15, \n",
        "                                                              topic_names=['topic_{}'.format(i) for i in range(1, 200)]))"
      ],
      "execution_count": 0,
      "outputs": []
    },
    {
      "cell_type": "code",
      "metadata": {
        "id": "S2IM9-ZeqNBw",
        "colab_type": "code",
        "colab": {}
      },
      "source": [
        "model_artm.fit_offline(batch_vectorizer=batch_vectorizer,num_collection_passes=1)"
      ],
      "execution_count": 0,
      "outputs": []
    },
    {
      "cell_type": "code",
      "metadata": {
        "id": "FOztBBUVobkh",
        "colab_type": "code",
        "colab": {}
      },
      "source": [
        "phi_tau = model_artm.regularizers['SparsePhi'].tau\n",
        "theta_tau = model_artm.regularizers['SparseTheta'].tau\n",
        "\n",
        "for i in range(15):\n",
        "    model_artm.regularizers['SparsePhi'].tau = (phi_tau + (phi_tau*0.4))\n",
        "    model_artm.regularizers['SparseTheta'].tau = (theta_tau + (theta_tau*0.2))\n",
        "    \n",
        "    model_artm.fit_offline(batch_vectorizer=batch_vectorizer,num_collection_passes=1)"
      ],
      "execution_count": 0,
      "outputs": []
    },
    {
      "cell_type": "code",
      "metadata": {
        "id": "jCnEQLmborR0",
        "colab_type": "code",
        "colab": {
          "base_uri": "https://localhost:8080/",
          "height": 372
        },
        "outputId": "debacbee-3c0b-4a4f-cff9-a731bd39bba5"
      },
      "source": [
        "print_measures(model_artm)"
      ],
      "execution_count": 147,
      "outputs": [
        {
          "output_type": "stream",
          "text": [
            "Sparsity Phi: 0.604 ARTM)\n",
            "Sparsity Theta: 0.072 (ARTM)\n",
            "Kernel contrast: 0.244 (ARTM)\n",
            "Kernel purity: 0.305 (ARTM)\n",
            "Perplexity: 267.128 (ARTM)\n"
          ],
          "name": "stdout"
        },
        {
          "output_type": "display_data",
          "data": {
            "image/png": "[encoded data removed]",
            "text/plain": [
              "<Figure size 432x288 with 1 Axes>"
            ]
          },
          "metadata": {
            "tags": []
          }
        }
      ]
    },
    {
      "cell_type": "markdown",
      "metadata": {
        "id": "fInbW4zDqk5t",
        "colab_type": "text"
      },
      "source": [
        "Perplexity снова улучшилась"
      ]
    },
    {
      "cell_type": "code",
      "metadata": {
        "id": "S0oVqqpcqosN",
        "colab_type": "code",
        "colab": {}
      },
      "source": [
        "for topic_name in model_artm.topic_names:\n",
        "    print(topic_name + ': ')\n",
        "    try:\n",
        "        for x in model_artm.score_tracker['TopTokensScore_1'].last_tokens[topic_name]:\n",
        "            print(x)\n",
        "        print('---------')\n",
        "    \n",
        "    except KeyError: \n",
        "        continue"
      ],
      "execution_count": 0,
      "outputs": []
    },
    {
      "cell_type": "markdown",
      "metadata": {
        "id": "XjnMnGl4q7Sb",
        "colab_type": "text"
      },
      "source": [
        "В темах проскальзывают прочерки \"-\". Но выглядят они уже неплохо, хоть и встречаются лишние слова. На данный момент это наилучший результат. Вот некоторые из полученных тем:\n",
        "\n",
        "1)кнопка\n",
        "символ\n",
        "нажать\n",
        "блок\n",
        "значение\n",
        "иначе\n",
        "клавиатура\n",
        "шрифт\n",
        "нажатие\n",
        "текст\n",
        "\n",
        "2) клетка\n",
        "мозг\n",
        "движение\n",
        "рука\n",
        "тело\n",
        "ген\n",
        "глаз\n",
        "животное\n",
        "кожа\n",
        "организм\n",
        "\n",
        "3) доклад\n",
        "конференция\n",
        "–\n",
        "тема\n",
        "участник\n",
        "разработчик\n",
        "выступление\n",
        "слайд\n",
        "спикер\n",
        "рассказать\n"
      ]
    },
    {
      "cell_type": "markdown",
      "metadata": {
        "id": "IlGJ1nittEdN",
        "colab_type": "text"
      },
      "source": [
        "В лучшей версии значения tfidf следующие: min_df=15, max_df=1500. Количество тем - 100, были изменены значения постепенного увеличения резуляризаторов phi_tau*0.4 и theta_tau*0.2 в течение 10 итераций. Выше можно увидеть график обучения данной модели. "
      ]
    }
  ]
}